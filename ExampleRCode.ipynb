{
 "cells": [
  {
   "cell_type": "code",
   "execution_count": 3,
   "id": "f2eb7415-882e-40de-902f-50980bf8d988",
   "metadata": {},
   "outputs": [
    {
     "name": "stderr",
     "output_type": "stream",
     "text": [
      "Installing package into ‘/home/durrell/STOR-601-env/R-packages’\n",
      "(as ‘lib’ is unspecified)\n",
      "\n",
      "Loading required package: usethis\n",
      "\n",
      "Downloading GitHub repo LaurenDurrell/CplusplusR@HEAD\n",
      "\n"
     ]
    },
    {
     "name": "stdout",
     "output_type": "stream",
     "text": [
      "\n",
      "\u001b[36m──\u001b[39m \u001b[36mR CMD build\u001b[39m \u001b[36m─────────────────────────────────────────────────────────────────\u001b[39m\n",
      "\u001b[32m✔\u001b[39m  \u001b[90mchecking for file ‘/tmp/RtmpwoNdEN/remotes2fb32fffb33e/LaurenDurrell-CplusplusR-0a6fcb9/DESCRIPTION’\u001b[39m\u001b[36m\u001b[39m\n",
      "\u001b[90m─\u001b[39m\u001b[90m  \u001b[39m\u001b[90mpreparing ‘CplusplusR’:\u001b[39m\u001b[36m\u001b[39m\n",
      "\u001b[32m✔\u001b[39m  \u001b[90mchecking DESCRIPTION meta-information\u001b[39m\u001b[36m\u001b[39m\n",
      "\u001b[90m─\u001b[39m\u001b[90m  \u001b[39m\u001b[90mcleaning src\u001b[39m\u001b[36m\u001b[39m\n",
      "\u001b[90m─\u001b[39m\u001b[90m  \u001b[39m\u001b[90mchecking for LF line-endings in source and make files and shell scripts\u001b[39m\u001b[36m\u001b[39m\n",
      "\u001b[90m─\u001b[39m\u001b[90m  \u001b[39m\u001b[90mchecking for empty or unneeded directories\u001b[39m\u001b[36m\u001b[39m\n",
      "\u001b[90m─\u001b[39m\u001b[90m  \u001b[39m\u001b[90mbuilding ‘CplusplusR_1.0.tar.gz’\u001b[39m\u001b[36m\u001b[39m\n",
      "   \n",
      "\r"
     ]
    },
    {
     "name": "stderr",
     "output_type": "stream",
     "text": [
      "Installing package into ‘/home/durrell/STOR-601-env/R-packages’\n",
      "(as ‘lib’ is unspecified)\n",
      "\n"
     ]
    }
   ],
   "source": [
    "install.packages(\"devtools\")\n",
    "library(Rcpp)\n",
    "library(devtools)\n",
    "install_github(\"LaurenDurrell/CplusplusR\",force=TRUE)\n",
    "library(CplusplusR)"
   ]
  },
  {
   "cell_type": "code",
   "execution_count": 4,
   "id": "7afb25aa-e1d8-4ab1-a113-40290df24418",
   "metadata": {},
   "outputs": [
    {
     "name": "stdout",
     "output_type": "stream",
     "text": [
      "hello\n"
     ]
    },
    {
     "data": {
      "text/html": [
       "'hello blady blah ...'"
      ],
      "text/latex": [
       "'hello blady blah ...'"
      ],
      "text/markdown": [
       "'hello blady blah ...'"
      ],
      "text/plain": [
       "[1] \"hello blady blah ...\""
      ]
     },
     "metadata": {},
     "output_type": "display_data"
    }
   ],
   "source": [
    "#test code\n",
    "rcpp_marshall_string(\"hello\")"
   ]
  },
  {
   "cell_type": "code",
   "execution_count": 5,
   "id": "5cc6007b-9e23-4daf-97e8-aed950b0ff34",
   "metadata": {},
   "outputs": [
    {
     "name": "stdout",
     "output_type": "stream",
     "text": [
      "  A B C\n",
      "1 a b d\n",
      "2 b a a\n",
      "3 d d b\n",
      "  a b d\n",
      "1 C A B\n",
      "2 A C C\n",
      "3 B B A\n"
     ]
    }
   ],
   "source": [
    "#make some test df's / pref tables \n",
    "#not using 'c' as a name \n",
    "A <- c('a','b','d')\n",
    "B <- c('b','a','d')\n",
    "C <- c('d','a','b')\n",
    "a <- c('C','A','B')\n",
    "b <- c('A','C','B')\n",
    "d <- c('B','C','A')\n",
    "df1 <- data.frame(A,B,C)\n",
    "print(df1)\n",
    "df2 <- data.frame(a,b,d)\n",
    "print(df2)"
   ]
  },
  {
   "cell_type": "code",
   "execution_count": 12,
   "id": "8f8f9136-e33a-42ec-99b2-69262c5a209c",
   "metadata": {},
   "outputs": [
    {
     "name": "stdout",
     "output_type": "stream",
     "text": [
      "[1] \"preference tables the same size\"\n",
      "[1] \"No duplicate entries within each column of preference table 1\"\n",
      "[1] \"no duplicates names in preference table names\"\n",
      "[1] \"df1 correct type\"\n",
      "[1] \"df2 correct type\"\n"
     ]
    }
   ],
   "source": [
    "#input data checks\n",
    "check_data_inputs(df1,df2)"
   ]
  },
  {
   "cell_type": "code",
   "execution_count": 7,
   "id": "a8620c11-8b0a-4ec3-9d16-f99cf9048abe",
   "metadata": {},
   "outputs": [
    {
     "name": "stdout",
     "output_type": "stream",
     "text": [
      "  names values\n",
      "1     A      a\n",
      "2     C      d\n",
      "3     B      b\n"
     ]
    },
    {
     "data": {
      "text/html": [
       "'STABLE'"
      ],
      "text/latex": [
       "'STABLE'"
      ],
      "text/markdown": [
       "'STABLE'"
      ],
      "text/plain": [
       "[1] \"STABLE\""
      ]
     },
     "metadata": {},
     "output_type": "display_data"
    }
   ],
   "source": [
    "#running fundamental algorithm and checking it with is_stable \n",
    "output <- fundamental_wrapper(df1,df2)\n",
    "print(output)\n",
    "is_stable_check_wrapper(df1,df2)"
   ]
  },
  {
   "cell_type": "code",
   "execution_count": null,
   "id": "919a4e42-b8be-485c-9a3f-4856596075c6",
   "metadata": {},
   "outputs": [],
   "source": [
    "#replicating with csv data \n",
    "MenP8 <- read.csv(\"C:/Users/durrell/Documents/codingC++/Cplusplus/MenP8.csv\")\n",
    "WomenP8 <- read.csv(\"C:/Users/durrell/Documents/codingC++/Cplusplus/WomenP8.csv\")\n",
    "csvoutput <- fundamental_wrapper(MenP8,WomenP8)"
   ]
  },
  {
   "cell_type": "code",
   "execution_count": 8,
   "id": "7c237180-afaf-402f-9382-b8f897c6b499",
   "metadata": {},
   "outputs": [
    {
     "data": {
      "text/html": [
       "'STABLE'"
      ],
      "text/latex": [
       "'STABLE'"
      ],
      "text/markdown": [
       "'STABLE'"
      ],
      "text/plain": [
       "[1] \"STABLE\""
      ]
     },
     "metadata": {},
     "output_type": "display_data"
    },
    {
     "data": {
      "text/html": [
       "<table class=\"dataframe\">\n",
       "<caption>A matrix: 3 × 2 of type lgl</caption>\n",
       "<thead>\n",
       "\t<tr><th scope=col>names</th><th scope=col>values</th></tr>\n",
       "</thead>\n",
       "<tbody>\n",
       "\t<tr><td>TRUE</td><td>TRUE</td></tr>\n",
       "\t<tr><td>TRUE</td><td>TRUE</td></tr>\n",
       "\t<tr><td>TRUE</td><td>TRUE</td></tr>\n",
       "</tbody>\n",
       "</table>\n"
      ],
      "text/latex": [
       "A matrix: 3 × 2 of type lgl\n",
       "\\begin{tabular}{ll}\n",
       " names & values\\\\\n",
       "\\hline\n",
       "\t TRUE & TRUE\\\\\n",
       "\t TRUE & TRUE\\\\\n",
       "\t TRUE & TRUE\\\\\n",
       "\\end{tabular}\n"
      ],
      "text/markdown": [
       "\n",
       "A matrix: 3 × 2 of type lgl\n",
       "\n",
       "| names | values |\n",
       "|---|---|\n",
       "| TRUE | TRUE |\n",
       "| TRUE | TRUE |\n",
       "| TRUE | TRUE |\n",
       "\n"
      ],
      "text/plain": [
       "     names values\n",
       "[1,] TRUE  TRUE  \n",
       "[2,] TRUE  TRUE  \n",
       "[3,] TRUE  TRUE  "
      ]
     },
     "metadata": {},
     "output_type": "display_data"
    }
   ],
   "source": [
    "#replicating with named lists \n",
    "NamedList1 <- list(A = c('a','b','d'),\n",
    "                   B = c('b','a','d'),\n",
    "                   C = c('d','a','b'))\n",
    "NamedList2 <- list(a = c('C','A','B'),\n",
    "                   b = c('A','C','B'),\n",
    "                   d = c('B','C','A'))\n",
    "NamedListOutput <- fundamental_wrapper(NamedList1,NamedList2)\n",
    "is_stable_check_wrapper(df1,df2)\n",
    "\n",
    "#check the outputs match \n",
    "output == NamedListOutput"
   ]
  },
  {
   "cell_type": "code",
   "execution_count": 11,
   "id": "f01fe4b2-459e-410f-b6f9-1c896dab22d2",
   "metadata": {},
   "outputs": [
    {
     "name": "stdout",
     "output_type": "stream",
     "text": [
      "  names values\n",
      "1     C      d\n",
      "2     A      a\n",
      "3     B      b\n"
     ]
    },
    {
     "data": {
      "text/html": [
       "'STABLE'"
      ],
      "text/latex": [
       "'STABLE'"
      ],
      "text/markdown": [
       "'STABLE'"
      ],
      "text/plain": [
       "[1] \"STABLE\""
      ]
     },
     "metadata": {},
     "output_type": "display_data"
    }
   ],
   "source": [
    "#random permutations of the data.frame rows \n",
    "sdf1<-shuffle_function(df1)\n",
    "sdf2<-shuffle_function(df2)\n",
    "\n",
    "shuffledOutput <- fundamental_wrapper(sdf1,sdf2)\n",
    "print(shuffledOutput)\n",
    "is_stable_check_wrapper(sdf1,sdf2)"
   ]
  }
 ],
 "metadata": {
  "kernelspec": {
   "display_name": "R",
   "language": "R",
   "name": "ir"
  },
  "language_info": {
   "codemirror_mode": "r",
   "file_extension": ".r",
   "mimetype": "text/x-r-source",
   "name": "R",
   "pygments_lexer": "r",
   "version": "4.1.2"
  }
 },
 "nbformat": 4,
 "nbformat_minor": 5
}
