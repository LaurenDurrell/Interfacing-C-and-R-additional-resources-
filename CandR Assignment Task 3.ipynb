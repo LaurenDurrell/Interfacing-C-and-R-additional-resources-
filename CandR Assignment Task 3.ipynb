{
 "cells": [
  {
   "cell_type": "markdown",
   "id": "a4041245",
   "metadata": {},
   "source": [
    "# Task 3 \n",
    "\n",
    "This analysis of the ocde generated throughout this course is made in reference to Benureau, Fabien CY, and Nicolas P. Rougier. \"Re-run, repeat, reproduce, reuse, replicate: transforming code into scientific contributions.\" Frontiers in neuroinformatics 11 (2018): 69.\n",
    "\n",
    "## Summary table\n",
    "\n",
    "|             | Replicable | Reproducible | Repeatable | Rerunable | Reusable |\n",
    "|-------------|------------|--------------|------------|-----------|----------|\n",
    "| Pseudo Code | 3          | 4            | 4          | 4         | 1        |\n",
    "| Python      | 2          | 3            | 2          | 3         | 4        |\n",
    "| C++         | 4          | 2            | 3          | 2         | 3        |\n",
    "| R Package   | 1          | 1            | 1          | 1         | 2        |\n",
    "\n",
    "## Replicable\n",
    "#### Definition: New code writen to match the provided conceptual description gets the same results.\n",
    "The R Package scores the best as it provides pseudo code as well as code with which the reuslst and any discrepencies can be compared. <br> \n",
    "The Python code is second for the same reseason, although pseudo code was not explisity provided for the fundermental algorithm, all other algorithms has this provision.<br> \n",
    "The pseudo code itself from assigmnet 1 is ranked third as, although well explained and documneted, there is no code with which to compare any future implimentations. <br> \n",
    "Finally the C++ code comes in last, with no pseudo-code provided. \n",
    "\n",
    "## Reproducible\n",
    "#### Defintion: The same code and data give another researcher the same results. \n",
    "Pseudo code scores the lowest as it is not functional code and therefore produces no results it'self. \n",
    "Python code include some randomness in terms of creating random preference tables, although the core algorithms themselves do not rely on this and are deterministic. Example data and outputs provided. <br> \n",
    "C++ code scores similarly to the python code except that it doesnt not have any functinality for randomly creating preference tables Icoldnt get it working - some commented out code was included). <br> \n",
    "The R package has the best reproducability as there are no random components and example inputs and expected outputs are well documented. \n",
    "\n",
    "## Repeatable\n",
    "#### Defintion: The code is deterministic; repeatidly running it gives the same results. \n",
    "The pseudo code alone is not repeatable without a coded implementation, therefore it comes last in the ranking.<br> \n",
    "The python code, C++ package and the R package have all been tested for repeatability (even the random elements through inlcuded a set.seed command). The order of the ranking for these three has therefore been based on the ease of repeatidyly re-running the code with the same inputs to check the same outputs are given.  \n",
    "\n",
    "## Rerunable\n",
    "#### Defintion: The code is well documented and commented with clear dependencies. The code will be rerunable in the future. \n",
    "Similar to above, the pseudo code scores low on this as it is not runable, and therefore cannot be re-runnable.<br> \n",
    "I have scored the pythoin code as the second lowest as the documentation is less clear and the dependencies are not specied. <br> Next is the c++ package, this has some documentation although limited. <br> The R package is the most user friendly way to interact with the C++ functions and has the clearest documentation. \n",
    "\n",
    "## Reusable\n",
    "#### Defintion: The code is easy for others to use and modify i.e there are no hard-coded numbers and perameters are easily accessed and edited from the users perspective. \n",
    "The psudo code ranks highest on this as it is clear and easy to understand instructiosn for how to build the algorithms. It has a lot of fexibility for modifications as you can choose which language and data strauctures to use. <br>\n",
    "I have ranked the R package second as it provides an easy way to interact with the C++ algorithms and makes it simple to create and use new preferece tables. It does have a limitations that the C++ code is not as easily modified, but all key parameters are easily accessible from the users perspective, and the package is well documented.<br>\n",
    "The C++ program clearly specifies which parameters are ment to be adjusted, and the instructions for using codeblocks detail how to add the parameters. The code is split out into a logical structure and well commented allowing, however, C++ is more difficult to read and edit making more integral modifications more diffucult. <br>\n",
    "The python code is ranked in last place as it is not as clearly documented and packaged up, therefore key parameters to adult are not as obvious to the user. It is however, written in a more easily read and modified language. \n"
   ]
  }
 ],
 "metadata": {
  "kernelspec": {
   "display_name": "Python 3 (ipykernel)",
   "language": "python",
   "name": "python3"
  },
  "language_info": {
   "codemirror_mode": {
    "name": "ipython",
    "version": 3
   },
   "file_extension": ".py",
   "mimetype": "text/x-python",
   "name": "python",
   "nbconvert_exporter": "python",
   "pygments_lexer": "ipython3",
   "version": "3.11.5"
  }
 },
 "nbformat": 4,
 "nbformat_minor": 5
}
